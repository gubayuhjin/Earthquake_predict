{
 "cells": [
  {
   "cell_type": "code",
   "execution_count": 1,
   "metadata": {
    "collapsed": false
   },
   "outputs": [
    {
     "name": "stdout",
     "output_type": "stream",
     "text": [
      "TensorFlow version: 1.1.0\n"
     ]
    }
   ],
   "source": [
    "import numpy as np\n",
    "import tensorflow as tf\n",
    "import pandas as pd\n",
    "import time as time\n",
    "import matplotlib.pyplot as plt\n",
    "%matplotlib inline\n",
    "print(\"TensorFlow version:\",tf.__version__)"
   ]
  },
  {
   "cell_type": "code",
   "execution_count": null,
   "metadata": {
    "collapsed": true
   },
   "outputs": [],
   "source": [
    "data_dir =\"/Earth_Quake_predict/data/\"\n",
    "model_dir =\"/tmp/earth_quake_predict/models/1/\"\n",
    "summaries_dir = \"/tmp/earth_quake_predict/logs\""
   ]
  },
  {
   "cell_type": "code",
   "execution_count": null,
   "metadata": {
    "collapsed": false
   },
   "outputs": [],
   "source": [
    "#Extract data from CSV\n",
    "df1=pd.read_csv(data_dir+\"earthquake_data.csv\")\n",
    "col1 = df1[['Latitude','Longitude','Depth']]   #Extract input data\n",
    "col2 = df1['Magnitude']                     #Extract target data\n",
    "#Convert to Numpy array\n",
    "InputX1 = col1.as_matrix()\n",
    "InputY1 = col2.as_matrix()\n",
    "#Convert to float data type\n",
    "InputX1.astype(float, copy=False)\n",
    "InputY1.astype(float, copy=False)\n",
    "#Determine shape of  input/output data\n",
    "print(\"Shape of training input:\",InputX1.shape)\n",
    "print(\"Shape of values in training output:\",InputY1.shape)\n",
    "#Print input data\n",
    "print(\"Input data:\\n\",InputX1)\n",
    "#Print target data\n",
    "print(\"Output data:\\n\",InputY1)\n",
    "#Extract number of samples\n",
    "batch_size = InputY1.shape[0]          #Number of training samples\n",
    "#print(batch_size)"
   ]
  },
  {
   "cell_type": "code",
   "execution_count": null,
   "metadata": {
    "collapsed": false
   },
   "outputs": [],
   "source": [
    "\n",
    "\"\"\"\n",
    "#Min-max Normalization\n",
    "X1_min = np.amin(InputX1,0)     \n",
    "X1_max = np.amax(InputX1,0)   \n",
    "print(\"Mininum values:\",X1_min)\n",
    "print(\"Maximum values:\",X1_max)\n",
    "Y1_min = np.amin(InputY1)     \n",
    "Y1_max = np.amax(InputY1) \n",
    "InputX1_norm = (InputX1-X1_min)/(X1_max-X1_min)\n",
    "InputY1_norm = InputY1  #No normalization in output\n",
    "#InputY1_norm = (InputY1-Y1_min)/(Y1_max-Y1_min)\n",
    "#print(\"X1 normalized:\",InputX1_reshape)\n",
    "#print(\"Y1 normalized:\",InputY1_reshape)\n",
    "\"\"\"\n",
    "#Specify input and ouput features\n",
    "Xfeatures = 3 #Number of input features\n",
    "Yfeatures = 1 #Number of input features\n",
    "#Reshape\n",
    "InputX1 = np.resize(InputX1,(batch_size,Xfeatures))\n",
    "InputY1 = np.resize(InputY1,(batch_size,Yfeatures))\n",
    "#Specify size of training batch and validation batch\n",
    "train_batch_size = 20000\n",
    "valid_batch_size = batch_size-train_batch_size\n",
    "print(\"Shape of training input:\",InputX1.shape)\n",
    "print(\"Shape of values in training output:\",InputY1.shape)"
   ]
  },
  {
   "cell_type": "code",
   "execution_count": null,
   "metadata": {
    "collapsed": false
   },
   "outputs": [],
   "source": [
    "# reset everything to rerun in jupyter\n",
    "tf.reset_default_graph()\n",
    "with tf.device('/cpu:0'):\n",
    "    #Raw data input\n",
    "    #raw_data = tf.placeholder(tf.float32,shape=(None),name='Raw_data')#[batch size, input_features]\n",
    "    #Input variable\n",
    "    X = tf.placeholder(tf.float32,shape=(None,Xfeatures),name='Input')#[batch size, input_features]\n",
    "    #Output variable\n",
    "    Y = tf.placeholder(tf.float32,name='Output')\n",
    "\n",
    "    with tf.name_scope('Normalization'):\n",
    "        #L2 normalization for input data\n",
    "        Xnorm = tf.nn.l2_normalize(X, 0, epsilon=1e-12, name='Normalize')\n",
    "    with tf.name_scope('Split_raw_data_set_into_training_and_validation'):\n",
    "        #Slicing data set\n",
    "        Xtrain = tf.slice(Xnorm,[0,0] ,[train_batch_size,-1], name='Extract_training_data_X')\n",
    "        Ytrain = tf.slice(Y,[0,0] ,[train_batch_size,-1], name='Extract_training_data_Y')\n",
    "        Xv = tf.slice(Xnorm,[train_batch_size,0] ,[valid_batch_size,-1], name='Extract_validation_data_X')\n",
    "        Yv = tf.slice(Y,[train_batch_size,0] ,[valid_batch_size,-1], name='Extract_validation_data_Y')"
   ]
  },
  {
   "cell_type": "code",
   "execution_count": null,
   "metadata": {
    "collapsed": false
   },
   "outputs": [],
   "source": [
    "##Network hyper parametres\n",
    "L1 = 3 #Number of neurons in 1st layer\n",
    "L2 = 3 #Number of neurons in 2nd layer\n",
    "L3 = 3 #Number of neurons in 3rd layer\n",
    "#Standard deviation of initial weights and biases\n",
    "stddev0 = 0.3\n",
    "with tf.device('/cpu:0'):\n",
    "    with tf.name_scope('FeedForward_layer_1'):\n",
    "        #Layer1 weights\n",
    "        W_fc1 = tf.Variable(tf.random_normal([Xfeatures,L1],stddev=stddev0),name=\"FeedForward_layer_1_weights\") # [input_features,Number of neurons]) \n",
    "        b_fc1 = tf.Variable(tf.random_normal([L1],stddev=stddev0),name=\"FeedForward_layer_1_bias\")\n",
    "        #Layer 1\n",
    "        matmul_fc1=tf.matmul(X, W_fc1) + b_fc1\n",
    "        h_fc1 = tf.nn.relu(matmul_fc1)   #ReLU activation\n",
    "        summ_W_fc1 = tf.summary.histogram(\"FC_Layer_1_Weights\",W_fc1)\n",
    "        summ_b_fc1 = tf.summary.histogram(\"FC_Layer_1_biases\",b_fc1)\n",
    "        \n",
    "    with tf.name_scope('FeedForward_layer_2'):\n",
    "        #Layer2 weights\n",
    "        W_fc2 = tf.Variable(tf.random_normal([L1,L2],stddev=stddev0),name=\"FeedForward_layer_2_weights\") # [Number of neurons in preceding layer,Number of neurons]) \n",
    "        b_fc2 = tf.Variable(tf.random_normal([L2],stddev=stddev0),name=\"FeedForward_layer_2_bias\")\n",
    "        #Layer 2\n",
    "        matmul_fc2=tf.matmul(h_fc1, W_fc2) + b_fc2\n",
    "        h_fc2 = tf.nn.relu(matmul_fc2)   #ReLU activation\n",
    "        summ_W_fc2 = tf.summary.histogram(\"FC_Layer_2_Weights\",W_fc2)\n",
    "        summ_b_fc2 = tf.summary.histogram(\"FC_Layer_2_biases\",b_fc2)\n",
    "    \n",
    "    with tf.name_scope('FeedForward_layer_3'):\n",
    "        #Layer3 weights\n",
    "        W_fc3 = tf.Variable(tf.random_normal([L2,L3],stddev=stddev0),name=\"FeedForward_layer_3_weights\") # [Number of neurons in preceding layer,Number of neurons]) \n",
    "        b_fc3 = tf.Variable(tf.random_normal([L3],stddev=stddev0),name=\"FeedForward_layer_3_bias\")\n",
    "        #Layer 3\n",
    "        matmul_fc3=tf.matmul(h_fc2, W_fc3) + b_fc3\n",
    "        h_fc3 = tf.nn.relu(matmul_fc3)   #ReLU activation\n",
    "        summ_W_fc3 = tf.summary.histogram(\"FC_Layer_3_Weights\",W_fc3)\n",
    "        summ_b_fc3 = tf.summary.histogram(\"FC_Layer_3_biases\",b_fc3)\n",
    "\n",
    "    with tf.name_scope('Output_layer'):\n",
    "        #Output layer weights\n",
    "        W_fcO = tf.Variable(tf.random_normal([L3,Yfeatures],stddev=stddev0),name=\"Output_layer_weights\") #  [Number of neurons in preceding layer,output_features]) \n",
    "        b_fcO = tf.Variable(tf.random_normal([Yfeatures],stddev=stddev0),name=\"Output_layer_bias\")\n",
    "        #Output layer\n",
    "        matmul_fc4=tf.matmul(h_fc3, W_fcO) + b_fcO\n",
    "        output_layer = matmul_fc4  #linear activation\n",
    "        summ_W_fcO = tf.summary.histogram(\"Output_Layer_Weights\",W_fcO)\n",
    "        summ_b_fcO = tf.summary.histogram(\"Output_Layer_biases\",b_fcO)"
   ]
  },
  {
   "cell_type": "code",
   "execution_count": null,
   "metadata": {
    "collapsed": true
   },
   "outputs": [],
   "source": [
    "#Training hyper parametres\n",
    "learning_rate = 0.00001\n",
    "training_epochs = 1000000\n",
    "display_epoch = 200000\n",
    "log_epoch = 5000 "
   ]
  },
  {
   "cell_type": "code",
   "execution_count": null,
   "metadata": {
    "collapsed": false
   },
   "outputs": [],
   "source": [
    "with tf.device('/cpu:0'):\n",
    "    with tf.name_scope('Loss_Function'):\n",
    "        #Loss function\n",
    "        #mean_square_error =  tf.reduce_mean(tf.square(Y-output_layer))\n",
    "        mean_square_error = tf.losses.mean_squared_error(Y,output_layer)\n",
    "        summ_train_loss= tf.summary.scalar('sigmoid_cross_entropy_train', mean_square_error)\n",
    "        summ_valid_loss= tf.summary.scalar('sigmoid_cross_entropy_valid', mean_square_error)\n",
    "        \n",
    "    with tf.name_scope('Optimizer'):\n",
    "        train_step = tf.train.AdamOptimizer(learning_rate).minimize(mean_square_error)\n",
    "        #train_step = tf.train.AdagradOptimizer(learning_rate).minimize(mean_square_error)\n",
    "        #train_step = tf.train.MomentumOptimizer(learning_rate,0.01).minimize(mean_square_error)\n",
    "        #train_step = tf.train.GradientDescentOptimizer(learning_rate).minimize(mean_square_error)\n",
    "        \n",
    "    merged =tf.summary.merge([summ_train_loss,summ_W_fc1,summ_b_fc1,summ_W_fc2,summ_b_fc2,summ_W_fc3,summ_b_fc3,\n",
    "                             summ_W_fcO,summ_b_fcO]) \n",
    "    valid_merged =tf.summary.merge([summ_valid_loss])   \n"
   ]
  },
  {
   "cell_type": "code",
   "execution_count": null,
   "metadata": {
    "collapsed": false
   },
   "outputs": [],
   "source": [
    "#Operation to save variables\n",
    "saver = tf.train.Saver()\n",
    "#Initialization and session\n",
    "init = tf.global_variables_initializer()\n",
    "log_iterations = 0\n",
    "tstart = time.time()\n",
    "with tf.Session() as sess:\n",
    "    train_writer = tf.summary.FileWriter(summaries_dir+\"/1/\",sess.graph)  #For writing summaries\n",
    "    sess.run(init)\n",
    "    \n",
    "    #Normalize training data\n",
    "    #InputX1_norm = sess.run(normalize_raw_data,feed_dict={raw_data:InputX1})\n",
    "    #InputY1_norm = sess.run(normalize_raw_data,feed_dict={raw_data:InputY1})\n",
    "   \n",
    "    \n",
    "    InputX1train = sess.run(Xtrain,feed_dict={X:InputX1})\n",
    "    InputY1train = sess.run(Ytrain,feed_dict={Y:InputY1})\n",
    "    InputX1v = sess.run(Xv,feed_dict={X:InputX1})\n",
    "    InputY1v = sess.run(Yv,feed_dict={Y:InputY1})\n",
    "    \n",
    "    print(\"Normalized training input:\\n\",InputX1train)\n",
    "    print(\"Normalized training output:\\n\",InputY1train)\n",
    "    print(\"Validation input:\\n\",InputX1v)\n",
    "    print(\"Validation output:\\n\",InputY1v)\n",
    "    \n",
    "    print(\"Initial training loss:\",sess.run(mean_square_error,feed_dict={X:InputX1train,Y:InputY1train}))\n",
    "    print(\"Initial validation loss:\",sess.run([mean_square_error],feed_dict={X:InputX1v,Y:InputY1v}))\n",
    "        \n",
    "    for i in range(training_epochs):\n",
    "        sess.run([train_step],feed_dict={X:InputX1train,Y:InputY1train})\n",
    "        if i%display_epoch ==0:\n",
    "            print(\"Training loss is:\",sess.run([mean_square_error],feed_dict={X:InputX1train,Y:InputY1train}),\"at itertion:\",i)\n",
    "            print(\"Validation loss is:\",sess.run([mean_square_error],feed_dict={X:InputX1v,Y:InputY1v}),\"at itertion:\",i)\n",
    "        if i%log_epoch ==0:\n",
    "            summary,_ = sess.run([merged,mean_square_error],feed_dict={X:InputX1train,Y:InputY1train})\n",
    "            train_writer.add_summary(summary, log_iterations)\n",
    "            valid_summary,_ = sess.run([valid_merged,mean_square_error],feed_dict={X:InputX1v,Y:InputY1v})\n",
    "            train_writer.add_summary(valid_summary, log_iterations)\n",
    "            log_iterations = log_iterations +1\n",
    "            \n",
    "    #Close summary writer\n",
    "    train_writer.close()\n",
    "    # Save the variables to disk.\n",
    "    save_path = saver.save(sess, model_dir+\"earthquake_model.ckpt\")\n",
    "    print(\"Model saved in file: %s\" % save_path)\n",
    "\n",
    "    print(\"Final training loss:\",sess.run([mean_square_error],feed_dict={X:InputX1train,Y:InputY1train}))\n",
    "    print(\"Final validation loss:\",sess.run([mean_square_error],feed_dict={X:InputX1v,Y:InputY1v}))\n",
    "    Ypredict = sess.run(output_layer,feed_dict={X:InputX1v})\n",
    "    print(Ypredict)\n",
    "print(\"Time taken:\", (time.time()-tstart)/60)\n",
    "print(\"Number of summaries:\",log_iterations) "
   ]
  },
  {
   "cell_type": "code",
   "execution_count": null,
   "metadata": {
    "collapsed": false
   },
   "outputs": [],
   "source": [
    "#Testing\n",
    "df2=pd.read_csv(data_dir+\"earthquake_test_data.csv\")\n",
    "col1 = df2[['Latitude','Longitude','Depth']]   #Extract input data\n",
    "col2 = df1['Magnitude']   \n",
    "#Convert to Numpy array\n",
    "InputX = col1.as_matrix()\n",
    "InputY = col2.as_matrix()\n",
    "\n",
    "#Convert to float data type\n",
    "InputX.astype(float, copy=False)\n",
    "InputY.astype(float, copy=False)\n",
    "#Determine shape of  test input data\n",
    "print(\"Shape of testing input:\",InputX.shape)\n",
    "print(\"Shape of testing input:\",InputY.shape)\n",
    "test_batch_size = InputY.shape[0]          #Number of testing samples\n",
    "#Reshape\n",
    "InputX = np.resize(InputX,(test_batch_size,Xfeatures))\n",
    "InputY = np.resize(InputY,(test_batch_size,Yfeatures))"
   ]
  },
  {
   "cell_type": "code",
   "execution_count": null,
   "metadata": {
    "collapsed": true
   },
   "outputs": [],
   "source": []
  }
 ],
 "metadata": {
  "anaconda-cloud": {},
  "kernelspec": {
   "display_name": "Python [Root]",
   "language": "python",
   "name": "Python [Root]"
  },
  "language_info": {
   "codemirror_mode": {
    "name": "ipython",
    "version": 3
   },
   "file_extension": ".py",
   "mimetype": "text/x-python",
   "name": "python",
   "nbconvert_exporter": "python",
   "pygments_lexer": "ipython3",
   "version": "3.5.2"
  }
 },
 "nbformat": 4,
 "nbformat_minor": 1
}
